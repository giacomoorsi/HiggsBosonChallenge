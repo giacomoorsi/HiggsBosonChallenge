{
 "cells": [
  {
   "cell_type": "code",
   "execution_count": null,
   "metadata": {},
   "outputs": [],
   "source": [
    "# Useful starting lines\n",
    "%matplotlib inline\n",
    "import numpy as np\n",
    "import matplotlib.pyplot as plt\n",
    "%load_ext autoreload\n",
    "%autoreload 2\n",
    "from implementations import *\n",
    "from functions import *\n",
    "from helper import *\n",
    "from feature_analysis import *"
   ]
  },
  {
   "cell_type": "code",
   "execution_count": null,
   "metadata": {},
   "outputs": [],
   "source": [
    "from proj1_helpers import *\n",
    "\n",
    "DATA_TRAIN_PATH = '../data/train.csv' # TODO: download train data and supply path here \n",
    "DATA_TEST_PATH = '../data/test.csv'\n",
    "y, tX, ids = load_csv_data(DATA_TRAIN_PATH)\n",
    "\n",
    "i_PRI = 22\n",
    "y_jet0  = y[tX[:, i_PRI]==0]\n",
    "tx_jet0 = tX[tX[:, i_PRI]==0]\n",
    "\n",
    "y_jet1  = y[ tX[:, i_PRI] == 1]\n",
    "tx_jet1 = tX[tX[:, i_PRI] == 1]\n",
    "\n",
    "y_jet2  = y[ tX[:, i_PRI] > 1]\n",
    "tx_jet2 = tX[tX[:, i_PRI] > 1]\n",
    "#----------------------------------\n",
    "#Then it can be executed like this\n",
    "tx_0_filtered = np.delete(tx_jet0, [4,5,6,12,22,23,24,25,26,27,28], axis=1)\n",
    "tx_1_filtered = np.delete(tx_jet1, [4,5,6,12,22,26,27,28], axis=1)\n",
    "tx_2_filtered = np.delete(tx_jet2, [22], axis=1)\n",
    "\n",
    "tx_0_filtered = fix_nan_values(fix_missing_values(tx_0_filtered))\n",
    "tx_1_filtered = fix_nan_values(fix_missing_values(tx_1_filtered))\n",
    "tx_2_filtered = fix_nan_values(fix_missing_values(tx_2_filtered))\n",
    "\n",
    "tx_train_0 = featureExpand(tx_0_filtered, 0)\n",
    "tx_train_1 = featureExpand(tx_1_filtered, 1)\n",
    "tx_train_2 = featureExpand(tx_2_filtered, 2)"
   ]
  },
  {
   "cell_type": "code",
   "execution_count": null,
   "metadata": {},
   "outputs": [],
   "source": [
    "y_jet0 = y_jet0.reshape((len(y_jet0), 1))\n",
    "y_jet1 = y_jet1.reshape((len(y_jet1), 1))\n",
    "y_jet2 = y_jet2.reshape((len(y_jet2), 1))"
   ]
  },
  {
   "cell_type": "code",
   "execution_count": null,
   "metadata": {},
   "outputs": [],
   "source": [
    "from logistic_regression import *"
   ]
  },
  {
   "cell_type": "code",
   "execution_count": null,
   "metadata": {},
   "outputs": [],
   "source": [
    "np.logspace(0, -10, 11)"
   ]
  },
  {
   "cell_type": "code",
   "execution_count": null,
   "metadata": {},
   "outputs": [],
   "source": [
    "def find_best_logistic_regression_model(y, tx, max_iter=10, gamma=0.01, k_fold=4) :\n",
    "   # lambdas = np.logspace(0, -10, 11)\n",
    "    #lambdas = np.logspace(0, -20, 4)\n",
    "    lambdas = [100, 1, 1e-5, 0]\n",
    "    degrees = np.arange(1, 5) \n",
    "\n",
    "    results = np.zeros((len(degrees), len(lambdas)))\n",
    "\n",
    "    for i_degree, degree in enumerate(degrees) : \n",
    "        tx = feature_expansion(tx, degree)\n",
    "        for i_lambda, lambda_  in enumerate(lambdas) : \n",
    "\n",
    "            results[i_degree, i_lambda] = cross_validate_logistic_regression(y, tx, max_iter, gamma, lambda_, k_fold)\n",
    "            print(\"degree={d},\\t lambda={l},\\t accuracy={a}\".format(d=degree, l=lambda_, a=results[i_degree, i_lambda]))\n",
    "\n",
    "    i,j = np.unravel_index(np.argmax(results, axis=None), results.shape)\n",
    "\n",
    "    return degrees[i], lambdas[j], results[i, j]"
   ]
  },
  {
   "cell_type": "code",
   "execution_count": null,
   "metadata": {},
   "outputs": [],
   "source": []
  },
  {
   "cell_type": "code",
   "execution_count": null,
   "metadata": {},
   "outputs": [],
   "source": [
    "find_best_logistic_regression_model(y_jet0, tx_0_filtered)"
   ]
  },
  {
   "cell_type": "code",
   "execution_count": null,
   "metadata": {},
   "outputs": [],
   "source": [
    "def find_best_model() : \n",
    "    lambdas = []\n",
    "    degrees = []\n",
    "     "
   ]
  },
  {
   "cell_type": "code",
   "execution_count": null,
   "metadata": {},
   "outputs": [],
   "source": []
  }
 ],
 "metadata": {
  "interpreter": {
   "hash": "047d5c4a70aa4e5ae964d8b25b83a0a6056fc4ba4dd2c3a708bdfa354f913a43"
  },
  "kernelspec": {
   "display_name": "Python 3.8.9 64-bit ('venv': venv)",
   "name": "python3"
  },
  "language_info": {
   "codemirror_mode": {
    "name": "ipython",
    "version": 3
   },
   "file_extension": ".py",
   "mimetype": "text/x-python",
   "name": "python",
   "nbconvert_exporter": "python",
   "pygments_lexer": "ipython3",
   "version": "3.8.9"
  },
  "orig_nbformat": 4
 },
 "nbformat": 4,
 "nbformat_minor": 2
}
