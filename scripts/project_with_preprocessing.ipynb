{
 "cells": [
  {
   "cell_type": "code",
   "execution_count": 56,
   "metadata": {},
   "outputs": [
    {
     "name": "stdout",
     "output_type": "stream",
     "text": [
      "The autoreload extension is already loaded. To reload it, use:\n",
      "  %reload_ext autoreload\n"
     ]
    }
   ],
   "source": [
    "%matplotlib inline\n",
    "import numpy as np\n",
    "import matplotlib.pyplot as plt\n",
    "%load_ext autoreload\n",
    "%autoreload 2\n",
    "from implementations import *\n",
    "from helper import *\n",
    "from feature_analysis import *\n",
    "from expansions import polynomial_expansion\n",
    "import seaborn as sns\n",
    "import pandas as pd #temporary\n",
    "from logistic_regression import *\n",
    "import disk_helpers\n",
    "\n",
    "from proj1_helpers import *\n",
    "\n"
   ]
  },
  {
   "cell_type": "code",
   "execution_count": 5,
   "metadata": {},
   "outputs": [],
   "source": [
    "DATA_TRAIN_PATH = '../data/train.csv' # TODO: download train data and supply path here \n",
    "DATA_TEST_PATH = '../data/test.csv'\n",
    "y, tX, ids = load_csv_data(DATA_TRAIN_PATH)"
   ]
  },
  {
   "cell_type": "code",
   "execution_count": 71,
   "metadata": {},
   "outputs": [
    {
     "data": {
      "text/plain": [
       "(array([0, 2]),)"
      ]
     },
     "execution_count": 71,
     "metadata": {},
     "output_type": "execute_result"
    }
   ],
   "source": [
    "np.where([True, False, True])"
   ]
  },
  {
   "cell_type": "code",
   "execution_count": 95,
   "metadata": {},
   "outputs": [],
   "source": [
    "\n",
    "\n",
    "def prepare_y_data(y,x, i_PRI=22) : \n",
    "    y_jet0  = y[x[:, i_PRI]==0]\n",
    "    y_jet1  = y[x[:, i_PRI] == 1]\n",
    "    y_jet2  = y[x[:, i_PRI] > 1]\n",
    "\n",
    "    y_jet0 = y_jet0.reshape((len(y_jet0), 1))\n",
    "    y_jet1 = y_jet1.reshape((len(y_jet1), 1))\n",
    "    y_jet2 = y_jet2.reshape((len(y_jet2), 1))\n",
    "\n",
    "    return y_jet0, y_jet1, y_jet2\n",
    "\n",
    "\n",
    "def prepare_train_data(x, i_PRI=22) : \n",
    "    # Replace missing values (-999) with NaN\n",
    "    x = fix_missing_values(x)\n",
    "    \n",
    "    tx_jet0 = x[x[:, i_PRI] ==0]\n",
    "    tx_jet1 = x[x[:, i_PRI] == 1]\n",
    "    tx_jet2 = x[x[:, i_PRI] > 1]\n",
    "\n",
    "\n",
    "    tx_0_filtered = np.delete(tx_jet0, [4,5,6,12,22,23,24,25,26,27,28], axis=1)\n",
    "    tx_1_filtered = np.delete(tx_jet1, [4,5,6,12,22,26,27,28], axis=1)\n",
    "    tx_2_filtered = np.delete(tx_jet2, [22], axis=1)\n",
    "\n",
    "   \n",
    "    # Treat outliers as missing values (replace with NaN)\n",
    "    tx_0_filtered = identify_outliers(tx_0_filtered)\n",
    "    tx_1_filtered = identify_outliers(tx_1_filtered)\n",
    "    tx_2_filtered = identify_outliers(tx_2_filtered)\n",
    "\n",
    "    # Compute medians\n",
    "    medians = []\n",
    "    medians.append(np.nanmedian(tx_0_filtered, axis=0))\n",
    "    medians.append(np.nanmedian(tx_1_filtered, axis=0))\n",
    "    medians.append(np.nanmedian(tx_2_filtered, axis=0))\n",
    "    \n",
    "\n",
    "    # Replace missing values (and outliers) with median values\n",
    "    tx_0_filtered = fix_nan_values(tx_0_filtered, medians[0])\n",
    "    tx_1_filtered = fix_nan_values(tx_1_filtered, medians[1])\n",
    "    tx_2_filtered = fix_nan_values(tx_2_filtered, medians[2])\n",
    "\n",
    "\n",
    "    # Feature engineering\n",
    "    tx_0 = featureExpand(tx_0_filtered, 0)\n",
    "    tx_1 = featureExpand(tx_1_filtered, 1)\n",
    "    tx_2 = featureExpand(tx_2_filtered, 2)\n",
    "\n",
    "    stds = []\n",
    "    stds.append(np.std(tx_0, axis=0))\n",
    "    stds.append(np.std(tx_1, axis=0))\n",
    "    stds.append(np.std(tx_2, axis=0))\n",
    "\n",
    "    print(\"n. colonne stds\", len(stds[0]), \", n. colonne tx_0\", tx_0.shape[1])\n",
    "    print(\"1: \", tx_0[1,:])\n",
    "\n",
    "    ### TO DO : check\n",
    "    # Remove columns with standard deviation == 0 (all the values are the same!)\n",
    "    tx_0, stds[0] = remove_useless_columns(tx_0, stds[0])\n",
    "    tx_1, stds[1] = remove_useless_columns(tx_1, stds[1])\n",
    "    tx_2, stds[2] = remove_useless_columns(tx_2, stds[2])\n",
    "    print(\"2: \", tx_0[1,:])\n",
    "    print(\"n. colonne stds\", len(stds[0]), \", n. colonne tx_0\", tx_0.shape[1])\n",
    "\n",
    "\n",
    "    ### END TO DO \n",
    "\n",
    "    # Compute means and standard deviations for standardization\n",
    "    means = []\n",
    "    means.append(np.mean(tx_0, axis=0))\n",
    "    means.append(np.mean(tx_1, axis=0))\n",
    "    means.append(np.mean(tx_2, axis=0))\n",
    "\n",
    "    # Compute standardization\n",
    "    tx_0 = standardize(tx_0, means[0], stds[0])\n",
    "    tx_1 = standardize(tx_1, means[1], stds[1])\n",
    "    tx_2 = standardize(tx_2, means[2], stds[2])\n",
    "    print(\"3: \", tx_0[1,:])\n",
    "\n",
    "    \n",
    "    return tx_0, tx_1, tx_2, means, stds, medians\n",
    "\n",
    "def remove_outliers(y, tx, keep=0.95) : \n",
    "    values_to_be_deleted = np.zeros(tx.shape[0]) # At first we keep all\n",
    "    for column in range(tx.shape[1]) : \n",
    "        min_value = np.quantile(tx[:, column],(1-keep)/2)\n",
    "        max_value = np.quantile(tx[:, column],(1+keep)/2)\n",
    "        values_to_be_deleted = np.logical_or(values_to_be_deleted, np.logical_or(tx[:, column]<min_value, tx[:, column]>max_value))\n",
    "    \n",
    "    values_to_be_kept = np.logical_not(values_to_be_deleted)\n",
    "    return y[values_to_be_kept, :], tx[values_to_be_kept, :]"
   ]
  },
  {
   "cell_type": "code",
   "execution_count": 96,
   "metadata": {},
   "outputs": [
    {
     "name": "stdout",
     "output_type": "stream",
     "text": [
      "n. colonne stds 43 , n. colonne tx_0 43\n",
      "1:  [ 1.00000000e+00  1.75864000e+02  1.69150000e+01  1.34805000e+02\n",
      "  3.09281465e+04  2.86117225e+02  1.81723880e+04  1.64050000e+01\n",
      "  1.64050000e+01  5.79830000e+01  2.82090000e+01  2.97740000e+01\n",
      "  0.00000000e+00  2.69124025e+02  2.69124025e+02  3.36202829e+03\n",
      "  7.95747681e+02  8.86491076e+02  0.00000000e+00  2.95380000e+01\n",
      "  5.31310000e+01  8.72493444e+02  2.82290316e+03  4.62949100e+01\n",
      "  7.59467999e+02  4.77341300e+01  8.07422809e+02  5.99397590e+00\n",
      "  1.01388102e+02  3.80419710e+02  5.12824790e+04  4.77693125e+01\n",
      "  6.43954218e+03 -2.34272750e+01 -3.96272357e+02 -2.27209250e+01\n",
      " -3.72736775e+02 -6.19751730e+01 -1.74825766e+03  2.37596520e+01\n",
      "  7.07419879e+02 -3.50832488e+01 -1.03628900e+03]\n",
      "2:  [ 1.75864000e+02  1.69150000e+01  1.34805000e+02  3.09281465e+04\n",
      "  2.86117225e+02  1.81723880e+04  1.64050000e+01  1.64050000e+01\n",
      "  5.79830000e+01  2.82090000e+01  2.97740000e+01  2.69124025e+02\n",
      "  2.69124025e+02  3.36202829e+03  7.95747681e+02  8.86491076e+02\n",
      "  2.95380000e+01  5.31310000e+01  8.72493444e+02  2.82290316e+03\n",
      "  4.62949100e+01  7.59467999e+02  4.77341300e+01  8.07422809e+02\n",
      "  5.99397590e+00  1.01388102e+02  3.80419710e+02  5.12824790e+04\n",
      "  4.77693125e+01  6.43954218e+03 -2.34272750e+01 -3.96272357e+02\n",
      " -2.27209250e+01 -3.72736775e+02 -6.19751730e+01 -1.74825766e+03\n",
      "  2.37596520e+01  7.07419879e+02 -3.50832488e+01 -1.03628900e+03]\n",
      "n. colonne stds 40 , n. colonne tx_0 40\n",
      "3:  [ 1.28996467 -1.54536822  2.13573855  0.79798214 -1.26394117  2.29039944\n",
      "  0.30851527  0.30851527 -1.01914376 -0.40649797 -1.04676049 -0.0831215\n",
      " -0.0831215  -0.91424488 -0.4503809  -0.91444188 -0.07870145 -1.61701325\n",
      " -0.28161726 -1.20942993  0.37336496 -0.0446983  -1.38276728 -1.1874092\n",
      " -1.17331341 -1.06431784  1.58573888  1.93119173  2.19372492  2.53799684\n",
      "  0.6780767   0.83607157 -0.73732173 -0.34495435 -1.61596504 -1.0760634\n",
      "  0.51009223  0.32482938 -0.01057177 -0.00679291]\n"
     ]
    }
   ],
   "source": [
    "tx_train_0, tx_train_1, tx_train_2, means, stds, medians = prepare_train_data(tX)\n",
    "y_0, y_1, y_2 = prepare_y_data(y, tX)"
   ]
  },
  {
   "cell_type": "code",
   "execution_count": 97,
   "metadata": {},
   "outputs": [
    {
     "data": {
      "text/plain": [
       "array([[ 5.74308492e-01,  8.67253094e-01,  6.33891965e-02, ...,\n",
       "        -5.45141851e-01,  1.26279084e-03,  3.27376837e-04],\n",
       "       [ 1.28996467e+00, -1.54536822e+00,  2.13573855e+00, ...,\n",
       "         3.24829378e-01, -1.05717703e-02, -6.79291392e-03],\n",
       "       [-2.83587688e-01, -2.86954039e-01,  8.34662362e-01, ...,\n",
       "         1.70599908e-01,  9.55318915e-04,  1.72828436e-04],\n",
       "       ...,\n",
       "       [-1.52409806e-01, -1.93691734e-03, -4.31401431e-01, ...,\n",
       "         1.34476428e-01, -1.69707750e-02, -1.67945957e-02],\n",
       "       [-5.21915819e-01, -1.45384107e+00, -4.03353035e-01, ...,\n",
       "        -2.26355213e-01,  4.76073849e-03,  9.60768516e-04],\n",
       "       [-1.52409806e-01,  5.43298593e-01, -3.25671676e-01, ...,\n",
       "         1.00158024e+00,  5.18129595e-01,  4.28107158e-01]])"
      ]
     },
     "execution_count": 97,
     "metadata": {},
     "output_type": "execute_result"
    }
   ],
   "source": [
    "tx_train_0"
   ]
  },
  {
   "cell_type": "code",
   "execution_count": null,
   "metadata": {},
   "outputs": [],
   "source": []
  },
  {
   "cell_type": "code",
   "execution_count": null,
   "metadata": {},
   "outputs": [],
   "source": []
  },
  {
   "cell_type": "code",
   "execution_count": null,
   "metadata": {},
   "outputs": [],
   "source": [
    "tx_train_0, tx_train_1, tx_train_2, means, stds, medians = prepare_train_data(tX)\n",
    "y_0, y_1, y_2 = prepare_y_data(y, tX)\n",
    "\n",
    "y_0, tx_train_0 = remove_outliers(y_0, tx_train_0)\n",
    "y_1, tx_train_1 = remove_outliers(y_1, tx_train_1)\n",
    "y_2, tx_train_2 = remove_outliers(y_2, tx_train_2)"
   ]
  },
  {
   "cell_type": "code",
   "execution_count": 21,
   "metadata": {},
   "outputs": [
    {
     "data": {
      "text/plain": [
       "array([[nan, nan, nan, ..., nan, nan, nan],\n",
       "       [nan, nan, nan, ..., nan, nan, nan],\n",
       "       [nan, nan, nan, ..., nan, nan, nan],\n",
       "       ...,\n",
       "       [nan, nan, nan, ..., nan, nan, nan],\n",
       "       [nan, nan, nan, ..., nan, nan, nan],\n",
       "       [nan, nan, nan, ..., nan, nan, nan]])"
      ]
     },
     "execution_count": 21,
     "metadata": {},
     "output_type": "execute_result"
    }
   ],
   "source": [
    "tx_train_0"
   ]
  },
  {
   "cell_type": "code",
   "execution_count": 90,
   "metadata": {},
   "outputs": [
    {
     "data": {
      "text/plain": [
       "array([[ 9.99000000e+02,  9.99000000e+02, -2.58282869e-01, ...,\n",
       "        -3.01179559e-01, -2.84814628e-01, -2.84781100e-01],\n",
       "       [ 9.99000000e+02,  9.99000000e+02, -3.35563849e-01, ...,\n",
       "        -2.77540140e-01, -2.84873445e-01, -2.84788258e-01],\n",
       "       [ 9.99000000e+02,  9.99000000e+02, -2.95254381e-01, ...,\n",
       "        -2.83601067e-01, -2.84825697e-01, -2.84783644e-01],\n",
       "       ...,\n",
       "       [ 9.99000000e+02,  9.99000000e+02, -2.86124725e-01, ...,\n",
       "        -2.82712533e-01, -2.85471004e-01, -2.85062892e-01],\n",
       "       [ 9.99000000e+02,  9.99000000e+02, -3.32632055e-01, ...,\n",
       "        -2.92517283e-01, -2.84688708e-01, -2.84770676e-01],\n",
       "       [ 9.99000000e+02,  9.99000000e+02, -2.68659765e-01, ...,\n",
       "        -2.59151030e-01,  3.51175051e+00,  3.51175146e+00]])"
      ]
     },
     "execution_count": 90,
     "metadata": {},
     "output_type": "execute_result"
    }
   ],
   "source": [
    "bs = 999*np.ones(b.shape[1])\n",
    "fix_nan_values(b, bs)"
   ]
  },
  {
   "cell_type": "markdown",
   "metadata": {},
   "source": [
    "# Some tests"
   ]
  },
  {
   "cell_type": "code",
   "execution_count": 98,
   "metadata": {},
   "outputs": [
    {
     "name": "stderr",
     "output_type": "stream",
     "text": [
      "/var/folders/23/8yrq68cs22q562ssvdx_frrm0000gn/T/ipykernel_5538/4079174517.py:3: RuntimeWarning: More than 20 figures have been opened. Figures created through the pyplot interface (`matplotlib.pyplot.figure`) are retained until explicitly closed and may consume too much memory. (To control this warning, see the rcParam `figure.max_open_warning`).\n",
      "  plt.figure()\n"
     ]
    },
    {
     "data": {
      "image/png": "[encoded data removed]",
      "text/plain": [
       "<Figure size 432x288 with 1 Axes>"
      ]
     },
     "metadata": {
      "needs_background": "light"
     },
     "output_type": "display_data"
    },
    {
     "data": {
      "image/png": "[encoded data removed]",
      "text/plain": [
       "<Figure size 432x288 with 1 Axes>"
      ]
     },
     "metadata": {
      "needs_background": "light"
     },
     "output_type": "display_data"
    },
    {
     "data": {
      "image/png": "[encoded data removed]",
      "text/plain": [
       "<Figure size 432x288 with 1 Axes>"
      ]
     },
     "metadata": {
      "needs_background": "light"
     },
     "output_type": "display_data"
    },
    {
     "data": {
      "image/png": "[encoded data removed]",
      "text/plain": [
       "<Figure size 432x288 with 1 Axes>"
      ]
     },
     "metadata": {
      "needs_background": "light"
     },
     "output_type": "display_data"
    },
    {
     "data": {
      "image/png": "[encoded data removed]",
      "text/plain": [
       "<Figure size 432x288 with 1 Axes>"
      ]
     },
     "metadata": {
      "needs_background": "light"
     },
     "output_type": "display_data"
    },
    {
     "data": {
      "image/png": "[encoded data removed]",
      "text/plain": [
       "<Figure size 432x288 with 1 Axes>"
      ]
     },
     "metadata": {
      "needs_background": "light"
     },
     "output_type": "display_data"
    },
    {
     "data": {
      "image/png": "[encoded data removed]",
      "text/plain": [
       "<Figure size 432x288 with 1 Axes>"
      ]
     },
     "metadata": {
      "needs_background": "light"
     },
     "output_type": "display_data"
    },
    {
     "data": {
      "image/png": "[encoded data removed]",
      "text/plain": [
       "<Figure size 432x288 with 1 Axes>"
      ]
     },
     "metadata": {
      "needs_background": "light"
     },
     "output_type": "display_data"
    },
    {
     "data": {
      "image/png": "[encoded data removed]",
      "text/plain": [
       "<Figure size 432x288 with 1 Axes>"
      ]
     },
     "metadata": {
      "needs_background": "light"
     },
     "output_type": "display_data"
    },
    {
     "data": {
      "image/png": "[encoded data removed]",
      "text/plain": [
       "<Figure size 432x288 with 1 Axes>"
      ]
     },
     "metadata": {
      "needs_background": "light"
     },
     "output_type": "display_data"
    },
    {
     "data": {
      "image/png": "[encoded data removed]",
      "text/plain": [
       "<Figure size 432x288 with 1 Axes>"
      ]
     },
     "metadata": {
      "needs_background": "light"
     },
     "output_type": "display_data"
    },
    {
     "data": {
      "image/png": "[encoded data removed]",
      "text/plain": [
       "<Figure size 432x288 with 1 Axes>"
      ]
     },
     "metadata": {
      "needs_background": "light"
     },
     "output_type": "display_data"
    },
    {
     "data": {
      "image/png": "[encoded data removed]",
      "text/plain": [
       "<Figure size 432x288 with 1 Axes>"
      ]
     },
     "metadata": {
      "needs_background": "light"
     },
     "output_type": "display_data"
    },
    {
     "data": {
      "image/png": "[encoded data removed]",
      "text/plain": [
       "<Figure size 432x288 with 1 Axes>"
      ]
     },
     "metadata": {
      "needs_background": "light"
     },
     "output_type": "display_data"
    },
    {
     "data": {
      "image/png": "[encoded data removed]",
      "text/plain": [
       "<Figure size 432x288 with 1 Axes>"
      ]
     },
     "metadata": {
      "needs_background": "light"
     },
     "output_type": "display_data"
    },
    {
     "data": {
      "image/png": "[encoded data removed]",
      "text/plain": [
       "<Figure size 432x288 with 1 Axes>"
      ]
     },
     "metadata": {
      "needs_background": "light"
     },
     "output_type": "display_data"
    },
    {
     "data": {
      "image/png": "[encoded data removed]",
      "text/plain": [
       "<Figure size 432x288 with 1 Axes>"
      ]
     },
     "metadata": {
      "needs_background": "light"
     },
     "output_type": "display_data"
    },
    {
     "data": {
      "image/png": "[encoded data removed]",
      "text/plain": [
       "<Figure size 432x288 with 1 Axes>"
      ]
     },
     "metadata": {
      "needs_background": "light"
     },
     "output_type": "display_data"
    },
    {
     "data": {
      "image/png": "[encoded data removed]",
      "text/plain": [
       "<Figure size 432x288 with 1 Axes>"
      ]
     },
     "metadata": {
      "needs_background": "light"
     },
     "output_type": "display_data"
    },
    {
     "data": {
      "image/png": "[encoded data removed]",
      "text/plain": [
       "<Figure size 432x288 with 1 Axes>"
      ]
     },
     "metadata": {
      "needs_background": "light"
     },
     "output_type": "display_data"
    },
    {
     "data": {
      "image/png": "[encoded data removed]",
      "text/plain": [
       "<Figure size 432x288 with 1 Axes>"
      ]
     },
     "metadata": {
      "needs_background": "light"
     },
     "output_type": "display_data"
    },
    {
     "data": {
      "image/png": "[encoded data removed]",
      "text/plain": [
       "<Figure size 432x288 with 1 Axes>"
      ]
     },
     "metadata": {
      "needs_background": "light"
     },
     "output_type": "display_data"
    },
    {
     "data": {
      "image/png": "[encoded data removed]",
      "text/plain": [
       "<Figure size 432x288 with 1 Axes>"
      ]
     },
     "metadata": {
      "needs_background": "light"
     },
     "output_type": "display_data"
    },
    {
     "data": {
      "image/png": "[encoded data removed]",
      "text/plain": [
       "<Figure size 432x288 with 1 Axes>"
      ]
     },
     "metadata": {
      "needs_background": "light"
     },
     "output_type": "display_data"
    },
    {
     "data": {
      "image/png": "[encoded data removed]",
      "text/plain": [
       "<Figure size 432x288 with 1 Axes>"
      ]
     },
     "metadata": {
      "needs_background": "light"
     },
     "output_type": "display_data"
    },
    {
     "data": {
      "image/png": "[encoded data removed]",
      "text/plain": [
       "<Figure size 432x288 with 1 Axes>"
      ]
     },
     "metadata": {
      "needs_background": "light"
     },
     "output_type": "display_data"
    },
    {
     "data": {
      "image/png": "[encoded data removed]",
      "text/plain": [
       "<Figure size 432x288 with 1 Axes>"
      ]
     },
     "metadata": {
      "needs_background": "light"
     },
     "output_type": "display_data"
    },
    {
     "data": {
      "image/png": "[encoded data removed]",
      "text/plain": [
       "<Figure size 432x288 with 1 Axes>"
      ]
     },
     "metadata": {
      "needs_background": "light"
     },
     "output_type": "display_data"
    },
    {
     "data": {
      "image/png": "[encoded data removed]",
      "text/plain": [
       "<Figure size 432x288 with 1 Axes>"
      ]
     },
     "metadata": {
      "needs_background": "light"
     },
     "output_type": "display_data"
    },
    {
     "data": {
      "image/png": "[encoded data removed]",
      "text/plain": [
       "<Figure size 432x288 with 1 Axes>"
      ]
     },
     "metadata": {
      "needs_background": "light"
     },
     "output_type": "display_data"
    },
    {
     "data": {
      "image/png": "[encoded data removed]",
      "text/plain": [
       "<Figure size 432x288 with 1 Axes>"
      ]
     },
     "metadata": {
      "needs_background": "light"
     },
     "output_type": "display_data"
    },
    {
     "data": {
      "image/png": "[encoded data removed]",
      "text/plain": [
       "<Figure size 432x288 with 1 Axes>"
      ]
     },
     "metadata": {
      "needs_background": "light"
     },
     "output_type": "display_data"
    },
    {
     "data": {
      "image/png": "[encoded data removed]",
      "text/plain": [
       "<Figure size 432x288 with 1 Axes>"
      ]
     },
     "metadata": {
      "needs_background": "light"
     },
     "output_type": "display_data"
    },
    {
     "data": {
      "image/png": "[encoded data removed]",
      "text/plain": [
       "<Figure size 432x288 with 1 Axes>"
      ]
     },
     "metadata": {
      "needs_background": "light"
     },
     "output_type": "display_data"
    },
    {
     "data": {
      "image/png": "[encoded data removed]",
      "text/plain": [
       "<Figure size 432x288 with 1 Axes>"
      ]
     },
     "metadata": {
      "needs_background": "light"
     },
     "output_type": "display_data"
    },
    {
     "data": {
      "image/png": "[encoded data removed]",
      "text/plain": [
       "<Figure size 432x288 with 1 Axes>"
      ]
     },
     "metadata": {
      "needs_background": "light"
     },
     "output_type": "display_data"
    },
    {
     "data": {
      "image/png": "[encoded data removed]",
      "text/plain": [
       "<Figure size 432x288 with 1 Axes>"
      ]
     },
     "metadata": {
      "needs_background": "light"
     },
     "output_type": "display_data"
    },
    {
     "data": {
      "image/png": "[encoded data removed]",
      "text/plain": [
       "<Figure size 432x288 with 1 Axes>"
      ]
     },
     "metadata": {
      "needs_background": "light"
     },
     "output_type": "display_data"
    },
    {
     "data": {
      "image/png": "[encoded data removed]",
      "text/plain": [
       "<Figure size 432x288 with 1 Axes>"
      ]
     },
     "metadata": {
      "needs_background": "light"
     },
     "output_type": "display_data"
    },
    {
     "data": {
      "image/png": "[encoded data removed]",
      "text/plain": [
       "<Figure size 432x288 with 1 Axes>"
      ]
     },
     "metadata": {
      "needs_background": "light"
     },
     "output_type": "display_data"
    }
   ],
   "source": [
    "db = pd.DataFrame(tx_train_0)\n",
    "for column in db : \n",
    "    plt.figure()\n",
    "    db.boxplot([column])\n"
   ]
  },
  {
   "cell_type": "code",
   "execution_count": null,
   "metadata": {},
   "outputs": [],
   "source": [
    "db.describe()"
   ]
  },
  {
   "cell_type": "markdown",
   "metadata": {},
   "source": [
    "# Let's find the best model"
   ]
  },
  {
   "cell_type": "code",
   "execution_count": null,
   "metadata": {},
   "outputs": [],
   "source": [
    "def find_best_logistic_regression_model(y, tx, max_iter=20, gamma=0.05, k_fold=3) :\n",
    "    \"\"\"Computes the best logistic regression model for the given `y` and `tx`\"\"\"\n",
    "\n",
    "    lambdas = np.logspace(-10, 4, 15)\n",
    "    degrees = np.arange(1, 7)\n",
    "\n",
    "    results = np.zeros((len(degrees), len(lambdas)))\n",
    "\n",
    "    for i_degree, degree in enumerate(degrees) : \n",
    "        expanded_tx = polynomial_expansion(tx, degree)\n",
    "        for i_lambda, lambda_  in enumerate(lambdas) : \n",
    "            results[i_degree, i_lambda] = cross_validate_logistic_regression(y, expanded_tx, max_iter, gamma, lambda_, k_fold)\n",
    "            print(\"degree={d},\\t lambda={l:e},\\taccuracy={a}\".format(d=degree, l=lambda_, a=results[i_degree, i_lambda]))\n",
    "\n",
    "    disk_helpers.save_data('logistic-regression', degrees, lambdas, results)\n",
    "    i,j = np.unravel_index(np.argmax(results, axis=None), results.shape)\n",
    "\n",
    "    return degrees[i], lambdas[j], results[i, j]"
   ]
  },
  {
   "cell_type": "code",
   "execution_count": null,
   "metadata": {},
   "outputs": [],
   "source": [
    "find_best_logistic_regression_model(y_0, tx_train_0)"
   ]
  },
  {
   "cell_type": "code",
   "execution_count": 106,
   "metadata": {},
   "outputs": [],
   "source": [
    "from least_squares import cross_validate_least_squares\n",
    "from plots import plot_degree_errors_plt\n",
    "\n",
    "\n",
    "def find_best_least_squares_model(y, tx, jet_string, k_fold=4) :\n",
    "    \"\"\"Computes the best least squares model for the given `y` and `tx`\"\"\"\n",
    "    lambdas = np.logspace(-15, 10, 26)\n",
    "    degrees = np.arange(1,20)\n",
    "\n",
    "    results = np.zeros((len(degrees), len(lambdas)))\n",
    "\n",
    "    for i_degree, degree in enumerate(degrees) :\n",
    "        print(\"build expanded...\")\n",
    "        expanded_tx = polynomial_expansion(tx, degree, mixed_columns=True)\n",
    "        print(\"build model...\")\n",
    "        for i_lambda, lambda_  in enumerate(lambdas) : \n",
    "            try : \n",
    "                results[i_degree, i_lambda] = cross_validate_least_squares(y, expanded_tx, lambda_, k_fold)\n",
    "                print(\"degree={d},\\t lambda={l:e},\\t accuracy={a}\".format(d=degree, l=lambda_, a=results[i_degree, i_lambda]))\n",
    "            except np.linalg.LinAlgError : \n",
    "                results[i_degree, i_lambda] = 0\n",
    "                print(\"degree={d},\\t lambda={l:e},\\t accuracy={a}\".format(d=degree, l=lambda_, a=\"0 - singular matrix\"))\n",
    "\n",
    "    i,j = np.unravel_index(np.argmax(results, axis=None), results.shape)\n",
    "    disk_helpers.save_data('least-squares', jet_string, degrees, lambdas, results)\n",
    "    plot_degree_errors_plt(degrees, lambdas, results)\n",
    "\n",
    "    return degrees[i], lambdas[j], results[i, j]"
   ]
  },
  {
   "cell_type": "code",
   "execution_count": 108,
   "metadata": {
    "pycharm": {
     "is_executing": true
    }
   },
   "outputs": [
    {
     "name": "stdout",
     "output_type": "stream",
     "text": [
      "build expanded...\n",
      "build model...\n",
      "degree=1,\t lambda=1.000000e-15,\t accuracy=0.8458443430218593\n"
     ]
    },
    {
     "ename": "KeyboardInterrupt",
     "evalue": "",
     "output_type": "error",
     "traceback": [
      "\u001b[0;31m---------------------------------------------------------------------------\u001b[0m",
      "\u001b[0;31mKeyboardInterrupt\u001b[0m                         Traceback (most recent call last)",
      "\u001b[0;32m/var/folders/23/8yrq68cs22q562ssvdx_frrm0000gn/T/ipykernel_5538/1401761290.py\u001b[0m in \u001b[0;36m<module>\u001b[0;34m\u001b[0m\n\u001b[0;32m----> 1\u001b[0;31m \u001b[0mfind_best_least_squares_model\u001b[0m\u001b[0;34m(\u001b[0m\u001b[0my_0\u001b[0m\u001b[0;34m,\u001b[0m \u001b[0mtx_train_0\u001b[0m\u001b[0;34m,\u001b[0m \u001b[0;34m'jet0'\u001b[0m\u001b[0;34m)\u001b[0m\u001b[0;34m\u001b[0m\u001b[0;34m\u001b[0m\u001b[0m\n\u001b[0m\u001b[1;32m      2\u001b[0m \u001b[0;31m#find_best_least_squares_model(y_1, tx_train_1, 'jet1')\u001b[0m\u001b[0;34m\u001b[0m\u001b[0;34m\u001b[0m\u001b[0;34m\u001b[0m\u001b[0m\n\u001b[1;32m      3\u001b[0m \u001b[0;31m#find_best_least_squares_model(y_2, tx_train_2, 'jet2')\u001b[0m\u001b[0;34m\u001b[0m\u001b[0;34m\u001b[0m\u001b[0;34m\u001b[0m\u001b[0m\n",
      "\u001b[0;32m/var/folders/23/8yrq68cs22q562ssvdx_frrm0000gn/T/ipykernel_5538/1120415236.py\u001b[0m in \u001b[0;36mfind_best_least_squares_model\u001b[0;34m(y, tx, jet_string, k_fold)\u001b[0m\n\u001b[1;32m     16\u001b[0m         \u001b[0;32mfor\u001b[0m \u001b[0mi_lambda\u001b[0m\u001b[0;34m,\u001b[0m \u001b[0mlambda_\u001b[0m  \u001b[0;32min\u001b[0m \u001b[0menumerate\u001b[0m\u001b[0;34m(\u001b[0m\u001b[0mlambdas\u001b[0m\u001b[0;34m)\u001b[0m \u001b[0;34m:\u001b[0m\u001b[0;34m\u001b[0m\u001b[0;34m\u001b[0m\u001b[0m\n\u001b[1;32m     17\u001b[0m             \u001b[0;32mtry\u001b[0m \u001b[0;34m:\u001b[0m\u001b[0;34m\u001b[0m\u001b[0;34m\u001b[0m\u001b[0m\n\u001b[0;32m---> 18\u001b[0;31m                 \u001b[0mresults\u001b[0m\u001b[0;34m[\u001b[0m\u001b[0mi_degree\u001b[0m\u001b[0;34m,\u001b[0m \u001b[0mi_lambda\u001b[0m\u001b[0;34m]\u001b[0m \u001b[0;34m=\u001b[0m \u001b[0mcross_validate_least_squares\u001b[0m\u001b[0;34m(\u001b[0m\u001b[0my\u001b[0m\u001b[0;34m,\u001b[0m \u001b[0mexpanded_tx\u001b[0m\u001b[0;34m,\u001b[0m \u001b[0mlambda_\u001b[0m\u001b[0;34m,\u001b[0m \u001b[0mk_fold\u001b[0m\u001b[0;34m)\u001b[0m\u001b[0;34m\u001b[0m\u001b[0;34m\u001b[0m\u001b[0m\n\u001b[0m\u001b[1;32m     19\u001b[0m                 \u001b[0mprint\u001b[0m\u001b[0;34m(\u001b[0m\u001b[0;34m\"degree={d},\\t lambda={l:e},\\t accuracy={a}\"\u001b[0m\u001b[0;34m.\u001b[0m\u001b[0mformat\u001b[0m\u001b[0;34m(\u001b[0m\u001b[0md\u001b[0m\u001b[0;34m=\u001b[0m\u001b[0mdegree\u001b[0m\u001b[0;34m,\u001b[0m \u001b[0ml\u001b[0m\u001b[0;34m=\u001b[0m\u001b[0mlambda_\u001b[0m\u001b[0;34m,\u001b[0m \u001b[0ma\u001b[0m\u001b[0;34m=\u001b[0m\u001b[0mresults\u001b[0m\u001b[0;34m[\u001b[0m\u001b[0mi_degree\u001b[0m\u001b[0;34m,\u001b[0m \u001b[0mi_lambda\u001b[0m\u001b[0;34m]\u001b[0m\u001b[0;34m)\u001b[0m\u001b[0;34m)\u001b[0m\u001b[0;34m\u001b[0m\u001b[0;34m\u001b[0m\u001b[0m\n\u001b[1;32m     20\u001b[0m             \u001b[0;32mexcept\u001b[0m \u001b[0mnp\u001b[0m\u001b[0;34m.\u001b[0m\u001b[0mlinalg\u001b[0m\u001b[0;34m.\u001b[0m\u001b[0mLinAlgError\u001b[0m \u001b[0;34m:\u001b[0m\u001b[0;34m\u001b[0m\u001b[0;34m\u001b[0m\u001b[0m\n",
      "\u001b[0;32m~/Documents/EPFL/MA1/ML/Project/ml-project-1-novae/scripts/least_squares.py\u001b[0m in \u001b[0;36mcross_validate_least_squares\u001b[0;34m(y, tx, lambda_, k_fold)\u001b[0m\n\u001b[1;32m     25\u001b[0m         \u001b[0my_train\u001b[0m \u001b[0;34m=\u001b[0m \u001b[0my\u001b[0m\u001b[0;34m[\u001b[0m\u001b[0mtrain_indices\u001b[0m\u001b[0;34m]\u001b[0m\u001b[0;34m\u001b[0m\u001b[0;34m\u001b[0m\u001b[0m\n\u001b[1;32m     26\u001b[0m \u001b[0;34m\u001b[0m\u001b[0m\n\u001b[0;32m---> 27\u001b[0;31m         \u001b[0mtx_test\u001b[0m \u001b[0;34m=\u001b[0m \u001b[0mtx\u001b[0m\u001b[0;34m[\u001b[0m\u001b[0mtest_indices\u001b[0m\u001b[0;34m,\u001b[0m \u001b[0;34m:\u001b[0m\u001b[0;34m]\u001b[0m\u001b[0;34m\u001b[0m\u001b[0;34m\u001b[0m\u001b[0m\n\u001b[0m\u001b[1;32m     28\u001b[0m         \u001b[0my_test\u001b[0m \u001b[0;34m=\u001b[0m \u001b[0my\u001b[0m\u001b[0;34m[\u001b[0m\u001b[0mtest_indices\u001b[0m\u001b[0;34m]\u001b[0m\u001b[0;34m\u001b[0m\u001b[0;34m\u001b[0m\u001b[0m\n\u001b[1;32m     29\u001b[0m \u001b[0;34m\u001b[0m\u001b[0m\n",
      "\u001b[0;31mKeyboardInterrupt\u001b[0m: "
     ]
    }
   ],
   "source": [
    "find_best_least_squares_model(y_0, tx_train_0, 'jet0')\n",
    "#find_best_least_squares_model(y_1, tx_train_1, 'jet1')\n",
    "#find_best_least_squares_model(y_2, tx_train_2, 'jet2')"
   ]
  },
  {
   "cell_type": "code",
   "execution_count": null,
   "metadata": {},
   "outputs": [],
   "source": [
    "def find_best_model(y, tx) : \n",
    "    \"\"\"Finds the best model for the given `y` and `tx`\"\"\"\n",
    "    degree_logistic, lambda_logistic, acc_logistic = find_best_logistic_regression_model(y, tx)\n",
    "    print(\"Logistic regression: (degree: {d}, lambda: {l}, accuracy: {a})\".format(d=degree_logistic, l=lambda_logistic, a=acc_logistic))\n",
    "    degree_ls, lambda_ls, acc_ls = find_best_least_squares_model(y, tx)\n",
    "    print(\"Least squares: (degree: {d}, lambda: {l}, accuracy: {a})\".format(d=degree_ls, l=lambda_ls, a=acc_ls))\n",
    "\n",
    "    if acc_logistic > acc_ls : \n",
    "        return \"logistic regression\", degree_logistic, lambda_logistic, acc_logistic\n",
    "    else : \n",
    "        return \"least squares\", degree_ls, lambda_ls, acc_ls"
   ]
  },
  {
   "cell_type": "code",
   "execution_count": null,
   "metadata": {},
   "outputs": [],
   "source": [
    "def find_model_for_higgs_dataset() : \n",
    "    \"\"\"Finds the best model for the entire train dataset\"\"\"\n",
    "    \n",
    "    jet_0_model, jet_0_degree, jet_0_lambda, jet_0_accuracy = find_best_model(y_0, tx_train_0)\n",
    "    print(\"Jet0: model={m}, degree={d}, lambda={l}, accuracy={a}\".format(m=jet_0_model,d=jet_0_degree,l=jet_0_lambda,a=jet_0_accuracy))\n",
    "    jet_1_model, jet_1_degree, jet_1_lambda, jet_1_accuracy = find_best_model(y_1, tx_train_1)\n",
    "    print(\"Jet1: model={m}, degree={d}, lambda={l}, accuracy={a}\".format(m=jet_1_model,d=jet_1_degree,l=jet_1_lambda,a=jet_1_accuracy))\n",
    "    jet_2_model, jet_2_degree, jet_2_lambda, jet_2_accuracy = find_best_model(y_2, tx_train_2)\n",
    "    print(\"Jet2: model={m}, degree={d}, lambda={l}, accuracy={a}\".format(m=jet_2_model,d=jet_2_degree,l=jet_2_lambda,a=jet_2_accuracy))\n"
   ]
  },
  {
   "cell_type": "code",
   "execution_count": null,
   "metadata": {},
   "outputs": [],
   "source": [
    "find_model_for_higgs_dataset()"
   ]
  },
  {
   "cell_type": "markdown",
   "metadata": {},
   "source": [
    "# Generate predictions"
   ]
  },
  {
   "cell_type": "code",
   "execution_count": 36,
   "metadata": {},
   "outputs": [],
   "source": [
    "DATA_TEST_PATH = '../data/test.csv' # TODO: download train data and supply path here \n",
    "_, tX_test, ids_test = load_csv_data(DATA_TEST_PATH)"
   ]
  },
  {
   "cell_type": "code",
   "execution_count": 35,
   "metadata": {},
   "outputs": [],
   "source": [
    "models = {\n",
    "    \"jet0\" : {\n",
    "        \"model\" : \"least squares\",\n",
    "        \"degree\" : 5,\n",
    "        \"lambda\" : 1e-3,\n",
    "        \"mixed\" : False,\n",
    "        \"accuracy\" : 0\n",
    "    },\n",
    "    \"jet1\" : {\n",
    "        \"model\" : \"least squares\",\n",
    "        \"degree\" : 7,\n",
    "        \"lambda\" : 1e-6,\n",
    "        \"mixed\" : False,\n",
    "        \"accuracy\" : 0.7976 # tx not mixed\n",
    "    },\n",
    "    \"jet2\" : {\n",
    "        \"model\" : \"least squares\",\n",
    "        \"degree\" : 6,\n",
    "        \"lambda\" : 1e-4,\n",
    "        \"mixed\" : False,\n",
    "        \"accuracy\" : 0\n",
    "    }\n",
    "}\n",
    "\n",
    "models_new = {\n",
    "    \"jet0\" : {\n",
    "        \"model\" : \"least squares\",\n",
    "        \"degree\" : 3,\n",
    "        \"lambda\" : 0.1,\n",
    "        \"mixed\" : False,\n",
    "        \"accuracy\" : 0.8355219697727956\n",
    "    },\n",
    "    \"jet1\" : {\n",
    "        \"model\" : \"least squares\",\n",
    "        \"degree\" : 7,\n",
    "        \"lambda\" : 1e-5,\n",
    "        \"mixed\" : False,\n",
    "        \"accuracy\" : 0.8043203507866906  \n",
    "    },\n",
    "    \"jet2\" : {\n",
    "        \"model\" : \"least squares\",\n",
    "        \"degree\" : 5,\n",
    "        \"lambda\" : 0.001,\n",
    "        \"mixed\" : False,\n",
    "        \"accuracy\" : 0.8258478081058727 \n",
    "    }\n",
    "}\n",
    "\n",
    "\n",
    "models_0_for_Nans = {\n",
    " \"jet0\" : {\n",
    "        \"model\" : \"least squares\",\n",
    "        \"degree\" : 3,\n",
    "        \"lambda\" : 1e-3,\n",
    "        \"mixed\" : True,\n",
    "        \"accuracy\" : 0.8473246753246754\n",
    "    },\n",
    "    \"jet1\" : {\n",
    "        \"model\" : \"least squares\",\n",
    "        \"degree\" : 4,\n",
    "        \"lambda\" : 10000,\n",
    "        \"mixed\" : True,\n",
    "        \"accuracy\" : 0.79718  \n",
    "    },\n",
    "    \"jet2\" : {\n",
    "        \"model\" : \"least squares\",\n",
    "        \"degree\" : 2,\n",
    "        \"lambda\" : 0.01,\n",
    "        \"mixed\" : False,\n",
    "        \"accuracy\" : 0.8307976908110867 \n",
    "    }\n",
    "}\n",
    "\n",
    "\n",
    "models_oggi = {\n",
    " \"jet0\" : {\n",
    "        \"model\" : \"least squares\",\n",
    "        \"degree\" : 7,\n",
    "        \"lambda\" : 1e-5,\n",
    "        \"mixed\" : False,\n",
    "        \"accuracy\" : 0.8473246753246754\n",
    "    },\n",
    "    \"jet1\" : {\n",
    "        \"model\" : \"least squares\",\n",
    "        \"degree\" : 7,\n",
    "        \"lambda\" : 1e-4,\n",
    "        \"mixed\" : False,\n",
    "        \"accuracy\" : 0.79718  \n",
    "    },\n",
    "    \"jet2\" : {\n",
    "        \"model\" : \"least squares\",\n",
    "        \"degree\" : 7,\n",
    "        \"lambda\" : 1e-4,\n",
    "        \"mixed\" : False,\n",
    "        \"accuracy\" : 0.8307976908110867 \n",
    "    }\n",
    "}"
   ]
  },
  {
   "cell_type": "code",
   "execution_count": 37,
   "metadata": {},
   "outputs": [],
   "source": [
    "def compute_weights(models) : \n",
    "    \"\"\"Computes the weights for the given models\"\"\"\n",
    "    weights = []\n",
    "    y = [y_0, y_1, y_2]  \n",
    "    tx = [tx_train_0, tx_train_1, tx_train_2]\n",
    "    for i, (jet, model) in enumerate(models.items()) : \n",
    "        x_expanded = polynomial_expansion(tx[i], model[\"degree\"], model[\"mixed\"])\n",
    "        if model[\"model\"] == \"least squares\" : \n",
    "            w, err = ridge_regression(y[i], x_expanded, model[\"lambda\"])\n",
    "            weights.append(w)\n",
    "        elif model[\"model\"] == \"logistic regression\" : \n",
    "            w = logistic_regression_penalized_gradient_descent(y[i], x_expanded, 0.01, model[\"lambda\"], 30)\n",
    "            weights.append(w)\n",
    "        else : \n",
    "            raise Exception(\"Model not recognised\")\n",
    "        print(\"weights computed for\", jet)\n",
    "            \n",
    "    return weights[0], weights[1], weights[2]"
   ]
  },
  {
   "cell_type": "code",
   "execution_count": 38,
   "metadata": {},
   "outputs": [],
   "source": [
    "def predict(models, x_test) : \n",
    "    \"\"\"Makes the prediction given the models chosen and the test dataset\"\"\"\n",
    "    i_PRI = 22\n",
    "    print(\"prepare dataset...\")\n",
    "    x_test_0, x_test_1, x_test_2 = prepare_x_data(x_test)\n",
    "    print(\"compute weights...\")\n",
    "    w_0, w_1, w_2 = compute_weights(models)\n",
    "    print(\"compute predictions...\")\n",
    "    x_test_0 = polynomial_expansion(x_test_0, models[\"jet0\"][\"degree\"], mixed_columns=models[\"jet0\"][\"mixed\"])\n",
    "    x_test_1 = polynomial_expansion(x_test_1, models[\"jet1\"][\"degree\"], mixed_columns=models[\"jet1\"][\"mixed\"])\n",
    "    x_test_2 = polynomial_expansion(x_test_2, models[\"jet2\"][\"degree\"], mixed_columns=models[\"jet2\"][\"mixed\"])\n",
    "\n",
    "    y_0_predicted = predict_labels(w_0, x_test_0)\n",
    "    y_1_predicted = predict_labels(w_1, x_test_1)\n",
    "    y_2_predicted = predict_labels(w_2, x_test_2)\n",
    "\n",
    "    y_pred = np.zeros((len(x_test), 1))\n",
    "    y_pred[x_test[:, i_PRI]==0] = y_0_predicted\n",
    "    y_pred[x_test[:, i_PRI]==1] = y_1_predicted\n",
    "    y_pred[x_test[:, i_PRI]>=2] = y_2_predicted\n",
    "\n",
    "    return y_pred"
   ]
  },
  {
   "cell_type": "code",
   "execution_count": 39,
   "metadata": {},
   "outputs": [
    {
     "name": "stdout",
     "output_type": "stream",
     "text": [
      "prepare dataset...\n",
      "compute weights...\n",
      "weights computed for jet0\n",
      "weights computed for jet1\n",
      "weights computed for jet2\n",
      "compute predictions...\n",
      "saving predictions on file...\n",
      "predictions saved on  out9.csv\n"
     ]
    }
   ],
   "source": [
    "OUTPUT_PATH=\"out9.csv\"\n",
    "y_pred = predict(models_oggi, tX_test)\n",
    "create_csv_submission(ids_test, y_pred, OUTPUT_PATH)"
   ]
  },
  {
   "cell_type": "markdown",
   "metadata": {},
   "source": [
    "# Estimation\n",
    "We can estimate the accuracy of our model on the test dataset without uploading data su AIcrowd"
   ]
  },
  {
   "cell_type": "code",
   "execution_count": null,
   "metadata": {},
   "outputs": [],
   "source": [
    "def estimation(models) : \n",
    "    \"\"\" Estimates the accuracy of our model on the test dataset without uploading to AIcrowd \"\"\"\n",
    "    i_PRI = 22\n",
    "    n_0 = sum(tX_test[:, i_PRI]==0)\n",
    "    n_1 = sum(tX_test[:, i_PRI]==1)\n",
    "    n_2 = sum(tX_test[:, i_PRI]>=2)\n",
    "\n",
    "    accuracy = (n_0*models[\"jet0\"][\"accuracy\"] + n_1*models[\"jet1\"][\"accuracy\"] + n_2*models[\"jet2\"][\"accuracy\"])/(len(tX_test))\n",
    "\n",
    "    print(\"The estimate accuracy with the given model is\", round(accuracy, 5))"
   ]
  },
  {
   "cell_type": "code",
   "execution_count": null,
   "metadata": {},
   "outputs": [],
   "source": [
    "estimation(models_new)"
   ]
  }
 ],
 "metadata": {
  "interpreter": {
   "hash": "047d5c4a70aa4e5ae964d8b25b83a0a6056fc4ba4dd2c3a708bdfa354f913a43"
  },
  "kernelspec": {
   "display_name": "Python 3.8.9 64-bit ('venv': venv)",
   "name": "python3"
  },
  "language_info": {
   "codemirror_mode": {
    "name": "ipython",
    "version": 3
   },
   "file_extension": ".py",
   "mimetype": "text/x-python",
   "name": "python",
   "nbconvert_exporter": "python",
   "pygments_lexer": "ipython3",
   "version": "3.8.9"
  },
  "orig_nbformat": 4
 },
 "nbformat": 4,
 "nbformat_minor": 2
}
